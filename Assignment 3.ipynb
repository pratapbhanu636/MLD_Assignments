{
 "cells": [
  {
   "cell_type": "markdown",
   "metadata": {},
   "source": [
    "Questuon 1 Write a function to compute 5/0 and use try/except to catch the exceptions.\n",
    "2."
   ]
  },
  {
   "cell_type": "code",
   "execution_count": 2,
   "metadata": {},
   "outputs": [
    {
     "name": "stdout",
     "output_type": "stream",
     "text": [
      "Enter the value of a and b\n",
      "12\n",
      "0\n",
      "Arithmetic Exception\n"
     ]
    }
   ],
   "source": [
    "def myFunction(a,b):\n",
    "        c=a/b\n",
    "        return c\n",
    "print (\"Enter the value of a and b\")\n",
    "a=int(input())\n",
    "b=int(input())\n",
    "try:\n",
    "    c=myFunction(a,b)\n",
    "except ArithmeticError:    \n",
    "    print (\"Arithmetic Exception\")    \n",
    "else:    \n",
    "    print (\"Successfully Done\")  \n",
    "    print(c)"
   ]
  },
  {
   "cell_type": "markdown",
   "metadata": {},
   "source": [
    "Question 2 Implement a Python program to generate all sentences where subject is in [\"Americans\",\n",
    "\"Indians\"] and verb is in [\"Play\", \"watch\"] and the object is in [\"Baseball\",\"cricket\"].\n",
    "Hint: Subject,Verb and Object should be declared in the program as shown below.\n",
    "subjects=[\"Americans \",\"Indians\"]\n",
    "verbs=[\"play\",\"watch\"]\n",
    "objects=[\"Baseball\",\"Cricket\"]"
   ]
  },
  {
   "cell_type": "code",
   "execution_count": 3,
   "metadata": {},
   "outputs": [
    {
     "name": "stdout",
     "output_type": "stream",
     "text": [
      "Americans play Baseball\n",
      "Americans play Cricket\n",
      "Americans watch Baseball\n",
      "Americans watch Cricket\n",
      "Indians play Baseball\n",
      "Indians play Cricket\n",
      "Indians watch Baseball\n",
      "Indians watch Cricket\n"
     ]
    }
   ],
   "source": [
    "subjects=[\"Americans\",\"Indians\"]\n",
    "verbs=[\"play\",\"watch\"]\n",
    "objects=[\"Baseball\",\"Cricket\"]\n",
    "sentence=[  x+' '+y+' '+z  for x in subjects for y in verbs for z in objects]\n",
    "\n",
    "for s in sentence:\n",
    "    print(s)"
   ]
  },
  {
   "cell_type": "markdown",
   "metadata": {},
   "source": [
    "Question 3 Write a function so that the columns of the output matrix are powers of the input vector."
   ]
  },
  {
   "cell_type": "code",
   "execution_count": 106,
   "metadata": {},
   "outputs": [
    {
     "name": "stdout",
     "output_type": "stream",
     "text": [
      "1 1 1 \n",
      "\n",
      "1 2 4 \n",
      "\n",
      "1 3 9 \n",
      "\n",
      "1 4 16 \n",
      "\n"
     ]
    }
   ],
   "source": [
    "inputArray=[1,2,3,4]\n",
    "length=len(inputArray)\n",
    "result = [x**i for x in inputArray for i in range (0,length-1) ]\n",
    "j=0\n",
    "for i in result:  \n",
    "    print(i,end=' ')\n",
    "    j=j+1\n",
    "    #print(j,length-1,end='')\n",
    "    if(j==length-1):\n",
    "        print('\\n')\n",
    "        j=0\n",
    "      "
   ]
  },
  {
   "cell_type": "code",
   "execution_count": null,
   "metadata": {},
   "outputs": [],
   "source": []
  }
 ],
 "metadata": {
  "kernelspec": {
   "display_name": "Python 3",
   "language": "python",
   "name": "python3"
  },
  "language_info": {
   "codemirror_mode": {
    "name": "ipython",
    "version": 3
   },
   "file_extension": ".py",
   "mimetype": "text/x-python",
   "name": "python",
   "nbconvert_exporter": "python",
   "pygments_lexer": "ipython3",
   "version": "3.7.6"
  }
 },
 "nbformat": 4,
 "nbformat_minor": 4
}
