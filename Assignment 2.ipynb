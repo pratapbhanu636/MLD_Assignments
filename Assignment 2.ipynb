{
 "cells": [
  {
   "cell_type": "markdown",
   "metadata": {},
   "source": [
    "Question 1 . Write a Python Program to implement your own myreduce() function which works exactly like\n",
    "Python's built-in function reduce()"
   ]
  },
  {
   "cell_type": "code",
   "execution_count": 1,
   "metadata": {},
   "outputs": [
    {
     "name": "stdout",
     "output_type": "stream",
     "text": [
      "17\n"
     ]
    }
   ],
   "source": [
    "import operator\n",
    "\n",
    "def my_reduce(func,seq): #reduce function \n",
    "    first=seq[0]\n",
    "    for i in seq[1:]:\n",
    "        first=func(first,i)\n",
    "    return first\n",
    "    \n",
    "lis = [ 1 , 3, 5, 6, 2, ]     \n",
    "print(my_reduce(operator.add,lis))\n"
   ]
  },
  {
   "cell_type": "markdown",
   "metadata": {},
   "source": [
    "Question 2 Write a Python program to implement your own myfilter() function which works exactly like\n",
    "Python's built-in function filter()"
   ]
  },
  {
   "cell_type": "code",
   "execution_count": 2,
   "metadata": {},
   "outputs": [
    {
     "name": "stdout",
     "output_type": "stream",
     "text": [
      "The filtered letters are:\n",
      "e\n",
      "a\n"
     ]
    }
   ],
   "source": [
    "def my_filter(func,seq):\n",
    "    resultSeq=[]\n",
    "    for i in seq:\n",
    "        if func(i)==True:\n",
    "            resultSeq.append(i);\n",
    "    return resultSeq\n",
    "\n",
    "def fun(variable): \n",
    "    letters = ['a', 'e', 'i', 'o', 'u'] \n",
    "    if (variable in letters): \n",
    "        return True\n",
    "    else: \n",
    "        return False\n",
    "\n",
    "sequence = ['g', 'e', 'a', 'j', 'k', 's', 'p', 'r'] \n",
    "filtered = my_filter(fun,sequence) \n",
    "  \n",
    "print('The filtered letters are:') \n",
    "for s in filtered: \n",
    "    print(s) \n"
   ]
  },
  {
   "cell_type": "markdown",
   "metadata": {},
   "source": [
    "Question 3 .Write List comprehensions to produce the following Lists"
   ]
  },
  {
   "cell_type": "code",
   "execution_count": 3,
   "metadata": {},
   "outputs": [
    {
     "name": "stdout",
     "output_type": "stream",
     "text": [
      "['A', 'C', 'A', 'D', 'G', 'I', 'L', 'D']\n"
     ]
    }
   ],
   "source": [
    "a=['A','C','A','D' ,'G','I','L','D' ]\n",
    "lis=[x for x in a ]\n",
    "print (lis)"
   ]
  },
  {
   "cell_type": "code",
   "execution_count": 4,
   "metadata": {},
   "outputs": [
    {
     "name": "stdout",
     "output_type": "stream",
     "text": [
      "['x', 'xx', 'xxx', 'xxxx', 'y', 'yy', 'yyy', 'yyyy', 'z', 'zz', 'zzz', 'zzzz']\n"
     ]
    }
   ],
   "source": [
    "a=['x','y','z']\n",
    "c_list=[x*i for x in a for  i in  range(1,5)]\n",
    "print (c_list)"
   ]
  },
  {
   "cell_type": "code",
   "execution_count": 5,
   "metadata": {},
   "outputs": [
    {
     "name": "stdout",
     "output_type": "stream",
     "text": [
      "['x', 'y', 'z', 'xx', 'yy', 'zz', 'xxx', 'yyy', 'zzz', 'xxxx', 'yyyy', 'zzzz']\n"
     ]
    }
   ],
   "source": [
    "a=['x','y','z']\n",
    "c_list=[x*i for i in range(1,5)  for  x in a]\n",
    "print (c_list)"
   ]
  },
  {
   "cell_type": "code",
   "execution_count": 6,
   "metadata": {},
   "outputs": [
    {
     "name": "stdout",
     "output_type": "stream",
     "text": [
      "[2, 3, 4, 3, 4, 5, 4, 5, 6]\n"
     ]
    }
   ],
   "source": [
    "a=[2,3,4]\n",
    "C_list=[x+i for x in a for  i in  range(0,3)]\n",
    "print (c_list)"
   ]
  },
  {
   "cell_type": "code",
   "execution_count": 7,
   "metadata": {},
   "outputs": [
    {
     "name": "stdout",
     "output_type": "stream",
     "text": [
      "[[2, 3, 4, 5], [3, 4, 5, 6], [4, 5, 6, 7], [5, 6, 7, 8]]\n"
     ]
    }
   ],
   "source": [
    "a=[2,3,4,5]\n",
    "c_list=[[x+i for x in a] for  i in  range(0,4)]\n",
    "print (c_list)"
   ]
  },
  {
   "cell_type": "code",
   "execution_count": 9,
   "metadata": {},
   "outputs": [
    {
     "name": "stdout",
     "output_type": "stream",
     "text": [
      "[(1, 1), (1, 2), (1, 3), (2, 1), (2, 2), (2, 3), (3, 1), (3, 2), (3, 3)]\n"
     ]
    }
   ],
   "source": [
    "a=[1,2,3]\n",
    "b=[1,2,3]\n",
    "c_list=[(x,y) for x in a for  y in b]\n",
    "print (c_list)"
   ]
  },
  {
   "cell_type": "code",
   "execution_count": 6,
   "metadata": {},
   "outputs": [
    {
     "name": "stdout",
     "output_type": "stream",
     "text": [
      "gyaneshwar\n"
     ]
    }
   ],
   "source": [
    "def longest_word(seq):\n",
    "    longestWord=[ (len(x),x) for x in seq] \n",
    "    longestWord.sort()\n",
    "    return longestWord[-1][1]\n",
    "\n",
    "\n",
    "words=[\"Lakshya\",\"Jai\",\"Bhanu\",\"gyaneshwar\"]\n",
    "print(longest_word(words))"
   ]
  },
  {
   "cell_type": "markdown",
   "metadata": {},
   "source": [
    "Task 2 "
   ]
  },
  {
   "cell_type": "markdown",
   "metadata": {},
   "source": [
    "Question 1 Write a Python Program(with class concepts) to find the area of the triangle using the below formula. \n",
    " \n",
    "area = (s*(s-a)*(s-b)*(s-c)) ** 0.5 \n",
    " \n",
    "Function to take the length of the sides of triangle from user should be defined in the parent class and function to calculate the area should be defined in subclass. "
   ]
  },
  {
   "cell_type": "code",
   "execution_count": 8,
   "metadata": {},
   "outputs": [],
   "source": [
    "class Size:\n",
    "    def __init__(self,l1,l2,l3):\n",
    "        self.l1=l1\n",
    "        self.l2=l2\n",
    "        self.l3=l2\n",
    "        \n",
    "    def printSize(self):\n",
    "            print(\"The measurements are\",self.l1, self.l2,self.l3)\n",
    "            "
   ]
  },
  {
   "cell_type": "code",
   "execution_count": 10,
   "metadata": {},
   "outputs": [
    {
     "name": "stdout",
     "output_type": "stream",
     "text": [
      "Enter the dimensions\n",
      "10\n",
      "20\n",
      "30\n",
      "The measurements are 10 20 20\n",
      "Area of the triangle is  4381.780460041329\n"
     ]
    }
   ],
   "source": [
    "class Triangle(Size):\n",
    "         def _init_(self,l1,l2,l3):\n",
    "                super().__init__(l1,l2,l3) \n",
    "         def area(self):\n",
    "            a=self.l1\n",
    "            b=self.l2\n",
    "            c=self.l3\n",
    "            s=a+b+c/2\n",
    "            area = s*((s-a)*(s-b)*(s-c))**0.5\n",
    "            print (\"Area of the triangle is \",area)\n",
    "            \n",
    "            \n",
    "print (\"Enter the dimensions\") \n",
    "l1=int(input())\n",
    "l2=int(input())\n",
    "l3=int(input())\n",
    "triangle=Triangle(l1,l2,l3)\n",
    "triangle.printSize()\n",
    "triangle.area()"
   ]
  },
  {
   "cell_type": "markdown",
   "metadata": {},
   "source": [
    "Question 2 Write a function filter_long_words() that takes a list of words and an integer n and returns the list of words that are longer than n."
   ]
  },
  {
   "cell_type": "code",
   "execution_count": 14,
   "metadata": {},
   "outputs": [
    {
     "name": "stdout",
     "output_type": "stream",
     "text": [
      "Enter the limiting length \n",
      "4\n",
      "['Bhanu', 'Lakshya', 'Vijeta']\n"
     ]
    }
   ],
   "source": [
    "def filter_long_words(words,n):\n",
    "    longestWords=[x for x in words if len(x)>n]\n",
    "    return longestWords\n",
    "\n",
    "\n",
    "\n",
    "print (\"Enter the limiting length \")\n",
    "n=int(input())\n",
    "words=[\"Bhanu\",\"Jai\",\"Lakshya\",\"Vijeta\"]\n",
    "print(filter_long_words(words,n))"
   ]
  },
  {
   "cell_type": "code",
   "execution_count": 12,
   "metadata": {},
   "outputs": [
    {
     "name": "stdout",
     "output_type": "stream",
     "text": [
      "[5, 3, 7, 6]\n"
     ]
    }
   ],
   "source": [
    "def length_mapping(words):\n",
    "    lengths=[len(x) for x in words]\n",
    "    return lengths\n",
    "\n",
    "words=[\"Bhanu\",\"Jai\",\"Lakshya\",\"Vijeta\"]\n",
    "print(length_mapping(words))"
   ]
  },
  {
   "cell_type": "markdown",
   "metadata": {},
   "source": [
    "Question 4 Write a Python function which takes a character (i.e. a string of length 1) and returns True if it is a vowel, False otherwise"
   ]
  },
  {
   "cell_type": "code",
   "execution_count": 13,
   "metadata": {},
   "outputs": [
    {
     "name": "stdout",
     "output_type": "stream",
     "text": [
      "Enter the character \n",
      "S\n",
      "False\n"
     ]
    }
   ],
   "source": [
    "def is_vowel(character):\n",
    "    if (character in 'aeiouAEIOU'):\n",
    "        return True\n",
    "    else:\n",
    "        return False\n",
    "    \n",
    "    \n",
    "print (\"Enter the character \")\n",
    "a=input()\n",
    "print(is_vowel(a))"
   ]
  },
  {
   "cell_type": "code",
   "execution_count": null,
   "metadata": {},
   "outputs": [],
   "source": []
  }
 ],
 "metadata": {
  "kernelspec": {
   "display_name": "Python 3",
   "language": "python",
   "name": "python3"
  },
  "language_info": {
   "codemirror_mode": {
    "name": "ipython",
    "version": 3
   },
   "file_extension": ".py",
   "mimetype": "text/x-python",
   "name": "python",
   "nbconvert_exporter": "python",
   "pygments_lexer": "ipython3",
   "version": "3.7.6"
  }
 },
 "nbformat": 4,
 "nbformat_minor": 4
}
